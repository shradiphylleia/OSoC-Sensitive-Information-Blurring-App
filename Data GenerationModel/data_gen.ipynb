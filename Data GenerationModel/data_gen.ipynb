{
  "cells": [
    {
      "cell_type": "code",
      "execution_count": null,
      "metadata": {
        "id": "T2piFjHorWx6"
      },
      "outputs": [],
      "source": [
        "import PIL\n",
        "from PIL import Image,ImageDraw,ImageFont"
      ]
    },
    {
      "cell_type": "code",
      "execution_count": null,
      "metadata": {
        "id": "QHMifKSc3gmb"
      },
      "outputs": [],
      "source": [
        "from PIL import Image, ImageDraw, ImageFont\n",
        "\n",
        "def overlay_images_with_text(background_path, overlay_path, overlay_position=(0, 0), text=\"\", text_position=(0, 0), text_color=(0, 0, 0)):\n",
        "    # Open images\n",
        "    background = Image.open(background_path)\n",
        "    overlay = Image.open(overlay_path)\n",
        "\n",
        "    # Resize overlay image\n",
        "    overlay = overlay.resize((120, 150))\n",
        "\n",
        "    # Paste the overlay image\n",
        "    background.paste(overlay, overlay_position)\n",
        "\n",
        "    # text to the image\n",
        "    font=ImageFont.truetype(\"CENTURY.TTF\",34)\n",
        "    draw = ImageDraw.Draw(background)\n",
        "    draw.text(text_position, text, font=font, fill=text_color)\n",
        "\n",
        "    # Save the result\n",
        "    background.save(\"output.png\")\n",
        "#Exemplary purpose here-apt excel file to be attached and then iterated upon for generating various instances\n",
        "background_image_path = \"/content/aaadhar_bg.png\"\n",
        "overlay_image_path =\"/content/img.png\"\n",
        "overlay_position = (60, 175)\n",
        "text_to_add = 'Name\\nSample name\\nDOB: 14/08/2005\\nSample gender'\n",
        "text_position = (200, 175)\n",
        "text_color = (0, 0, 0)\n",
        "font_size = 34\n",
        "\n",
        "overlay_images_with_text(background_image_path, overlay_image_path, overlay_position, text_to_add, text_position, text_color)\n"
      ]
    }
  ],
  "metadata": {
    "colab": {
      "provenance": []
    },
    "kernelspec": {
      "display_name": "Python 3",
      "name": "python3"
    },
    "language_info": {
      "name": "python"
    }
  },
  "nbformat": 4,
  "nbformat_minor": 0
}
